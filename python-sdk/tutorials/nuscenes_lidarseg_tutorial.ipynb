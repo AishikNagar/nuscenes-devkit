{
 "cells": [
  {
   "cell_type": "markdown",
   "metadata": {},
   "source": [
    "# nuScenes-lidarseg tutorial\n",
    "\n",
    "Welcome to the nuScenes-lidarseg tutorial.\n",
    "\n",
    "This demo assumes that nuScenes *and* nuScenes-lidarseg are installed at `/data/sets/nuscenes`."
   ]
  },
  {
   "cell_type": "code",
   "execution_count": null,
   "metadata": {},
   "outputs": [],
   "source": [
    "%matplotlib inline\n",
    "\n",
    "from nuscenes import NuScenes\n",
    "from nuscenes.lidarseg.lidarseg_utils import make_mini_from_lidarseg, get_single_sample_token\n",
    "\n",
    "nusc = NuScenes(version='v1.0-mini', dataroot='/data/sets/nuscenes', verbose=True)"
   ]
  },
  {
   "cell_type": "markdown",
   "metadata": {},
   "source": [
    "## Select a sample"
   ]
  },
  {
   "cell_type": "code",
   "execution_count": null,
   "metadata": {},
   "outputs": [],
   "source": [
    "in_mini, in_lidarseg = make_mini_from_lidarseg(nusc)\n",
    "\n",
    "to_check = 8\n",
    "sample_token = get_single_sample_token(nusc, in_mini, to_check)"
   ]
  },
  {
   "cell_type": "markdown",
   "metadata": {},
   "source": [
    "## Get stats of a given lidarseg keyframe"
   ]
  },
  {
   "cell_type": "code",
   "execution_count": null,
   "metadata": {},
   "outputs": [],
   "source": [
    "nusc.get_sample_lidarseg_stats(sample_token, sort_counts=True)"
   ]
  },
  {
   "cell_type": "markdown",
   "metadata": {},
   "source": [
    "## Render lidarseg labels in BEV of pc"
   ]
  },
  {
   "cell_type": "code",
   "execution_count": null,
   "metadata": {},
   "outputs": [],
   "source": [
    "sample = nusc.get('sample', sample_token)\n",
    "sample_data_token = sample['data']['LIDAR_TOP']\n",
    "\n",
    "nusc.render_sample_data(sample_data_token,\n",
    "                        with_anns=False,\n",
    "                        show_lidarseg_labels=True,\n",
    "                        filter_lidarseg_labels=[3, 32, 4, 5]\n",
    ")"
   ]
  },
  {
   "cell_type": "markdown",
   "metadata": {},
   "source": [
    "## Render lidarseg labels in image"
   ]
  },
  {
   "cell_type": "code",
   "execution_count": null,
   "metadata": {},
   "outputs": [],
   "source": [
    "nusc.render_pointcloud_in_image(sample_token,\n",
    "                                pointsensor_channel='LIDAR_TOP',\n",
    "                                camera_channel='CAM_BACK',\n",
    "                                render_intensity=True,\n",
    "                                show_lidarseg_labels=True,\n",
    "                                filter_lidarseg_labels=[3, 4, 5],\n",
    "                                render_if_no_points=False,\n",
    "                                show_lidarseg_legend=True,\n",
    "                                verbose=True)"
   ]
  },
  {
   "cell_type": "markdown",
   "metadata": {},
   "source": [
    "## Render sample (i.e. lidar, radar and all cameras)"
   ]
  },
  {
   "cell_type": "code",
   "execution_count": null,
   "metadata": {},
   "outputs": [],
   "source": [
    "nusc.render_sample(sample_token,\n",
    "                   show_lidarseg_labels=True,\n",
    "                   filter_lidarseg_labels=[3, 4, 5],\n",
    "                   verbose=True)"
   ]
  },
  {
   "cell_type": "markdown",
   "metadata": {},
   "source": [
    "## Render scene for a given cam sensor with lidarseg labels\n",
    "\n",
    "Note: This is commented out as it crashes in Jupyter notebooks."
   ]
  },
  {
   "cell_type": "code",
   "execution_count": null,
   "metadata": {},
   "outputs": [],
   "source": [
    "# nusc.render_camera_channel_with_pointclouds(\n",
    "#     nusc.scene[0]['token'], 'CAM_BACK', filter_lidarseg_labels=[6, 36],\n",
    "#     render_if_no_points=True, verbose=True, imsize=(1280, 720)\n",
    "# )"
   ]
  },
  {
   "cell_type": "markdown",
   "metadata": {},
   "source": [
    "## Render scene for all cameras with lidarseg labels\n",
    "\n",
    "Note: This is commented out as it crashes in Jupyter notebooks."
   ]
  },
  {
   "cell_type": "code",
   "execution_count": null,
   "metadata": {},
   "outputs": [],
   "source": [
    "# nusc.render_scene_with_pointclouds_for_all_cameras(\n",
    "#     nusc.scene[0]['token'], filter_lidarseg_labels=[32, 1], imsize=(640, 360)\n",
    "# )"
   ]
  }
 ],
 "metadata": {
  "kernelspec": {
   "display_name": "Python 3",
   "language": "python",
   "name": "python3"
  },
  "language_info": {
   "codemirror_mode": {
    "name": "ipython",
    "version": 3
   },
   "file_extension": ".py",
   "mimetype": "text/x-python",
   "name": "python",
   "nbconvert_exporter": "python",
   "pygments_lexer": "ipython3",
   "version": "3.7.6"
  }
 },
 "nbformat": 4,
 "nbformat_minor": 4
}
